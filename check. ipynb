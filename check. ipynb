import time

def fib(n,d):
  if n in d:
    return d[n]
  else:
    d[n] = fib(n-1,d) + fib(n-2,d)
    return d[n]

start = time.time()

d = {0:1,1:1}

print(fib(400,d))

print(time.time() - start)
