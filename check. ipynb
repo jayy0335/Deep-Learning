def fab(n):
   if n = 0 or n= 1
   return 1
   
   else:
       fab(n+1) + fab(n+1)
 
