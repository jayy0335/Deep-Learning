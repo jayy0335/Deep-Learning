{
  "nbformat": 4,
  "nbformat_minor": 0,
  "metadata": {
    "colab": {
      "provenance": []
    },
    "kernelspec": {
      "name": "python3",
      "display_name": "Python 3"
    },
    "language_info": {
      "name": "python"
    }
  },
  "cells": [
    {
      "cell_type": "code",
      "execution_count": null,
      "metadata": {
        "id": "cKVzInXrteyO"
      },
      "outputs": [],
      "source": [
        "import numpy as np\n",
        "import pandas as pd\n",
        "import matplotlib.pyplot as plt"
      ]
    },
    {
      "cell_type": "code",
      "source": [
        "df = pd.read_csv('/content/ushape.csv')"
      ],
      "metadata": {
        "id": "l-CtLegnti3_"
      },
      "execution_count": null,
      "outputs": []
    },
    {
      "cell_type": "code",
      "source": [
        "df.head()"
      ],
      "metadata": {
        "colab": {
          "base_uri": "https://localhost:8080/",
          "height": 206
        },
        "id": "T9P8j9Ubtt9t",
        "outputId": "84a474f1-ea06-4d3b-9d23-b4f5bba364ab"
      },
      "execution_count": null,
      "outputs": [
        {
          "output_type": "execute_result",
          "data": {
            "text/plain": [
              "        X       Y  class\n",
              "0  0.0316  0.9870      0\n",
              "1  2.1151 -0.0462      1\n",
              "2  0.8825 -0.0758      0\n",
              "3 -0.0551 -0.0373      1\n",
              "4  0.8295 -0.5393      1"
            ],
            "text/html": [
              "\n",
              "  <div id=\"df-33d3e6b8-44e4-4575-935c-e951e67558a2\" class=\"colab-df-container\">\n",
              "    <div>\n",
              "<style scoped>\n",
              "    .dataframe tbody tr th:only-of-type {\n",
              "        vertical-align: middle;\n",
              "    }\n",
              "\n",
              "    .dataframe tbody tr th {\n",
              "        vertical-align: top;\n",
              "    }\n",
              "\n",
              "    .dataframe thead th {\n",
              "        text-align: right;\n",
              "    }\n",
              "</style>\n",
              "<table border=\"1\" class=\"dataframe\">\n",
              "  <thead>\n",
              "    <tr style=\"text-align: right;\">\n",
              "      <th></th>\n",
              "      <th>X</th>\n",
              "      <th>Y</th>\n",
              "      <th>class</th>\n",
              "    </tr>\n",
              "  </thead>\n",
              "  <tbody>\n",
              "    <tr>\n",
              "      <th>0</th>\n",
              "      <td>0.0316</td>\n",
              "      <td>0.9870</td>\n",
              "      <td>0</td>\n",
              "    </tr>\n",
              "    <tr>\n",
              "      <th>1</th>\n",
              "      <td>2.1151</td>\n",
              "      <td>-0.0462</td>\n",
              "      <td>1</td>\n",
              "    </tr>\n",
              "    <tr>\n",
              "      <th>2</th>\n",
              "      <td>0.8825</td>\n",
              "      <td>-0.0758</td>\n",
              "      <td>0</td>\n",
              "    </tr>\n",
              "    <tr>\n",
              "      <th>3</th>\n",
              "      <td>-0.0551</td>\n",
              "      <td>-0.0373</td>\n",
              "      <td>1</td>\n",
              "    </tr>\n",
              "    <tr>\n",
              "      <th>4</th>\n",
              "      <td>0.8295</td>\n",
              "      <td>-0.5393</td>\n",
              "      <td>1</td>\n",
              "    </tr>\n",
              "  </tbody>\n",
              "</table>\n",
              "</div>\n",
              "    <div class=\"colab-df-buttons\">\n",
              "\n",
              "  <div class=\"colab-df-container\">\n",
              "    <button class=\"colab-df-convert\" onclick=\"convertToInteractive('df-33d3e6b8-44e4-4575-935c-e951e67558a2')\"\n",
              "            title=\"Convert this dataframe to an interactive table.\"\n",
              "            style=\"display:none;\">\n",
              "\n",
              "  <svg xmlns=\"http://www.w3.org/2000/svg\" height=\"24px\" viewBox=\"0 -960 960 960\">\n",
              "    <path d=\"M120-120v-720h720v720H120Zm60-500h600v-160H180v160Zm220 220h160v-160H400v160Zm0 220h160v-160H400v160ZM180-400h160v-160H180v160Zm440 0h160v-160H620v160ZM180-180h160v-160H180v160Zm440 0h160v-160H620v160Z\"/>\n",
              "  </svg>\n",
              "    </button>\n",
              "\n",
              "  <style>\n",
              "    .colab-df-container {\n",
              "      display:flex;\n",
              "      gap: 12px;\n",
              "    }\n",
              "\n",
              "    .colab-df-convert {\n",
              "      background-color: #E8F0FE;\n",
              "      border: none;\n",
              "      border-radius: 50%;\n",
              "      cursor: pointer;\n",
              "      display: none;\n",
              "      fill: #1967D2;\n",
              "      height: 32px;\n",
              "      padding: 0 0 0 0;\n",
              "      width: 32px;\n",
              "    }\n",
              "\n",
              "    .colab-df-convert:hover {\n",
              "      background-color: #E2EBFA;\n",
              "      box-shadow: 0px 1px 2px rgba(60, 64, 67, 0.3), 0px 1px 3px 1px rgba(60, 64, 67, 0.15);\n",
              "      fill: #174EA6;\n",
              "    }\n",
              "\n",
              "    .colab-df-buttons div {\n",
              "      margin-bottom: 4px;\n",
              "    }\n",
              "\n",
              "    [theme=dark] .colab-df-convert {\n",
              "      background-color: #3B4455;\n",
              "      fill: #D2E3FC;\n",
              "    }\n",
              "\n",
              "    [theme=dark] .colab-df-convert:hover {\n",
              "      background-color: #434B5C;\n",
              "      box-shadow: 0px 1px 3px 1px rgba(0, 0, 0, 0.15);\n",
              "      filter: drop-shadow(0px 1px 2px rgba(0, 0, 0, 0.3));\n",
              "      fill: #FFFFFF;\n",
              "    }\n",
              "  </style>\n",
              "\n",
              "    <script>\n",
              "      const buttonEl =\n",
              "        document.querySelector('#df-33d3e6b8-44e4-4575-935c-e951e67558a2 button.colab-df-convert');\n",
              "      buttonEl.style.display =\n",
              "        google.colab.kernel.accessAllowed ? 'block' : 'none';\n",
              "\n",
              "      async function convertToInteractive(key) {\n",
              "        const element = document.querySelector('#df-33d3e6b8-44e4-4575-935c-e951e67558a2');\n",
              "        const dataTable =\n",
              "          await google.colab.kernel.invokeFunction('convertToInteractive',\n",
              "                                                    [key], {});\n",
              "        if (!dataTable) return;\n",
              "\n",
              "        const docLinkHtml = 'Like what you see? Visit the ' +\n",
              "          '<a target=\"_blank\" href=https://colab.research.google.com/notebooks/data_table.ipynb>data table notebook</a>'\n",
              "          + ' to learn more about interactive tables.';\n",
              "        element.innerHTML = '';\n",
              "        dataTable['output_type'] = 'display_data';\n",
              "        await google.colab.output.renderOutput(dataTable, element);\n",
              "        const docLink = document.createElement('div');\n",
              "        docLink.innerHTML = docLinkHtml;\n",
              "        element.appendChild(docLink);\n",
              "      }\n",
              "    </script>\n",
              "  </div>\n",
              "\n",
              "\n",
              "    <div id=\"df-baf99807-853d-4dfa-9ff1-9f2121267cb7\">\n",
              "      <button class=\"colab-df-quickchart\" onclick=\"quickchart('df-baf99807-853d-4dfa-9ff1-9f2121267cb7')\"\n",
              "                title=\"Suggest charts\"\n",
              "                style=\"display:none;\">\n",
              "\n",
              "<svg xmlns=\"http://www.w3.org/2000/svg\" height=\"24px\"viewBox=\"0 0 24 24\"\n",
              "     width=\"24px\">\n",
              "    <g>\n",
              "        <path d=\"M19 3H5c-1.1 0-2 .9-2 2v14c0 1.1.9 2 2 2h14c1.1 0 2-.9 2-2V5c0-1.1-.9-2-2-2zM9 17H7v-7h2v7zm4 0h-2V7h2v10zm4 0h-2v-4h2v4z\"/>\n",
              "    </g>\n",
              "</svg>\n",
              "      </button>\n",
              "\n",
              "<style>\n",
              "  .colab-df-quickchart {\n",
              "      --bg-color: #E8F0FE;\n",
              "      --fill-color: #1967D2;\n",
              "      --hover-bg-color: #E2EBFA;\n",
              "      --hover-fill-color: #174EA6;\n",
              "      --disabled-fill-color: #AAA;\n",
              "      --disabled-bg-color: #DDD;\n",
              "  }\n",
              "\n",
              "  [theme=dark] .colab-df-quickchart {\n",
              "      --bg-color: #3B4455;\n",
              "      --fill-color: #D2E3FC;\n",
              "      --hover-bg-color: #434B5C;\n",
              "      --hover-fill-color: #FFFFFF;\n",
              "      --disabled-bg-color: #3B4455;\n",
              "      --disabled-fill-color: #666;\n",
              "  }\n",
              "\n",
              "  .colab-df-quickchart {\n",
              "    background-color: var(--bg-color);\n",
              "    border: none;\n",
              "    border-radius: 50%;\n",
              "    cursor: pointer;\n",
              "    display: none;\n",
              "    fill: var(--fill-color);\n",
              "    height: 32px;\n",
              "    padding: 0;\n",
              "    width: 32px;\n",
              "  }\n",
              "\n",
              "  .colab-df-quickchart:hover {\n",
              "    background-color: var(--hover-bg-color);\n",
              "    box-shadow: 0 1px 2px rgba(60, 64, 67, 0.3), 0 1px 3px 1px rgba(60, 64, 67, 0.15);\n",
              "    fill: var(--button-hover-fill-color);\n",
              "  }\n",
              "\n",
              "  .colab-df-quickchart-complete:disabled,\n",
              "  .colab-df-quickchart-complete:disabled:hover {\n",
              "    background-color: var(--disabled-bg-color);\n",
              "    fill: var(--disabled-fill-color);\n",
              "    box-shadow: none;\n",
              "  }\n",
              "\n",
              "  .colab-df-spinner {\n",
              "    border: 2px solid var(--fill-color);\n",
              "    border-color: transparent;\n",
              "    border-bottom-color: var(--fill-color);\n",
              "    animation:\n",
              "      spin 1s steps(1) infinite;\n",
              "  }\n",
              "\n",
              "  @keyframes spin {\n",
              "    0% {\n",
              "      border-color: transparent;\n",
              "      border-bottom-color: var(--fill-color);\n",
              "      border-left-color: var(--fill-color);\n",
              "    }\n",
              "    20% {\n",
              "      border-color: transparent;\n",
              "      border-left-color: var(--fill-color);\n",
              "      border-top-color: var(--fill-color);\n",
              "    }\n",
              "    30% {\n",
              "      border-color: transparent;\n",
              "      border-left-color: var(--fill-color);\n",
              "      border-top-color: var(--fill-color);\n",
              "      border-right-color: var(--fill-color);\n",
              "    }\n",
              "    40% {\n",
              "      border-color: transparent;\n",
              "      border-right-color: var(--fill-color);\n",
              "      border-top-color: var(--fill-color);\n",
              "    }\n",
              "    60% {\n",
              "      border-color: transparent;\n",
              "      border-right-color: var(--fill-color);\n",
              "    }\n",
              "    80% {\n",
              "      border-color: transparent;\n",
              "      border-right-color: var(--fill-color);\n",
              "      border-bottom-color: var(--fill-color);\n",
              "    }\n",
              "    90% {\n",
              "      border-color: transparent;\n",
              "      border-bottom-color: var(--fill-color);\n",
              "    }\n",
              "  }\n",
              "</style>\n",
              "\n",
              "      <script>\n",
              "        async function quickchart(key) {\n",
              "          const quickchartButtonEl =\n",
              "            document.querySelector('#' + key + ' button');\n",
              "          quickchartButtonEl.disabled = true;  // To prevent multiple clicks.\n",
              "          quickchartButtonEl.classList.add('colab-df-spinner');\n",
              "          try {\n",
              "            const charts = await google.colab.kernel.invokeFunction(\n",
              "                'suggestCharts', [key], {});\n",
              "          } catch (error) {\n",
              "            console.error('Error during call to suggestCharts:', error);\n",
              "          }\n",
              "          quickchartButtonEl.classList.remove('colab-df-spinner');\n",
              "          quickchartButtonEl.classList.add('colab-df-quickchart-complete');\n",
              "        }\n",
              "        (() => {\n",
              "          let quickchartButtonEl =\n",
              "            document.querySelector('#df-baf99807-853d-4dfa-9ff1-9f2121267cb7 button');\n",
              "          quickchartButtonEl.style.display =\n",
              "            google.colab.kernel.accessAllowed ? 'block' : 'none';\n",
              "        })();\n",
              "      </script>\n",
              "    </div>\n",
              "\n",
              "    </div>\n",
              "  </div>\n"
            ],
            "application/vnd.google.colaboratory.intrinsic+json": {
              "type": "dataframe",
              "variable_name": "df",
              "summary": "{\n  \"name\": \"df\",\n  \"rows\": 100,\n  \"fields\": [\n    {\n      \"column\": \"X\",\n      \"properties\": {\n        \"dtype\": \"number\",\n        \"std\": 0.891044115528054,\n        \"min\": -1.3185,\n        \"max\": 2.1814,\n        \"num_unique_values\": 100,\n        \"samples\": [\n          -0.8754,\n          -0.5135,\n          0.2458\n        ],\n        \"semantic_type\": \"\",\n        \"description\": \"\"\n      }\n    },\n    {\n      \"column\": \"Y\",\n      \"properties\": {\n        \"dtype\": \"number\",\n        \"std\": 0.5928851857943015,\n        \"min\": -1.0357,\n        \"max\": 1.5719,\n        \"num_unique_values\": 100,\n        \"samples\": [\n          0.5054,\n          0.6787,\n          0.8496\n        ],\n        \"semantic_type\": \"\",\n        \"description\": \"\"\n      }\n    },\n    {\n      \"column\": \"class\",\n      \"properties\": {\n        \"dtype\": \"number\",\n        \"std\": 0,\n        \"min\": 0,\n        \"max\": 1,\n        \"num_unique_values\": 2,\n        \"samples\": [\n          1,\n          0\n        ],\n        \"semantic_type\": \"\",\n        \"description\": \"\"\n      }\n    }\n  ]\n}"
            }
          },
          "metadata": {},
          "execution_count": 17
        }
      ]
    },
    {
      "cell_type": "code",
      "source": [
        "plt.scatter(df['X'],df['Y'],c=df['class'])"
      ],
      "metadata": {
        "colab": {
          "base_uri": "https://localhost:8080/",
          "height": 447
        },
        "id": "ZuYqGD_mtuQG",
        "outputId": "aff915fa-da1b-4737-c8d0-0f25f627a335"
      },
      "execution_count": null,
      "outputs": [
        {
          "output_type": "execute_result",
          "data": {
            "text/plain": [
              "<matplotlib.collections.PathCollection at 0x7e34497888d0>"
            ]
          },
          "metadata": {},
          "execution_count": 18
        },
        {
          "output_type": "display_data",
          "data": {
            "text/plain": [
              "<Figure size 640x480 with 1 Axes>"
            ],
            "image/png": "[encoded data removed]"
          },
          "metadata": {}
        }
      ]
    },
    {
      "cell_type": "code",
      "source": [
        "X = df.iloc[:,0:2].values\n",
        "y = df.iloc[:,-1].values"
      ],
      "metadata": {
        "id": "nwXuHnqhtwEJ"
      },
      "execution_count": null,
      "outputs": []
    },
    {
      "cell_type": "code",
      "source": [
        "import tensorflow\n",
        "from tensorflow import keras\n",
        "from keras import Sequential\n",
        "from keras.layers import Dense"
      ],
      "metadata": {
        "id": "ylDVIM8Ltx0H"
      },
      "execution_count": null,
      "outputs": []
    },
    {
      "cell_type": "code",
      "source": [
        "model = Sequential()\n",
        "\n",
        "model.add(Dense(10,activation='relu',input_dim=2,kernel_initializer='he_normal'))\n",
        "model.add(Dense(10,activation='relu',kernel_initializer='he_normal'))\n",
        "model.add(Dense(10,activation='relu',kernel_initializer='he_normal'))\n",
        "model.add(Dense(10,activation='relu',kernel_initializer='he_normal'))\n",
        "model.add(Dense(1,activation='sigmoid'))\n",
        "\n",
        "model.summary()"
      ],
      "metadata": {
        "colab": {
          "base_uri": "https://localhost:8080/",
          "height": 344
        },
        "id": "id8rhK5OtzVX",
        "outputId": "b140666b-e223-41e0-8b0d-cf2771163e7d"
      },
      "execution_count": null,
      "outputs": [
        {
          "output_type": "stream",
          "name": "stderr",
          "text": [
            "/usr/local/lib/python3.11/dist-packages/keras/src/layers/core/dense.py:87: UserWarning: Do not pass an `input_shape`/`input_dim` argument to a layer. When using Sequential models, prefer using an `Input(shape)` object as the first layer in the model instead.\n",
            "  super().__init__(activity_regularizer=activity_regularizer, **kwargs)\n"
          ]
        },
        {
          "output_type": "display_data",
          "data": {
            "text/plain": [
              "\u001b[1mModel: \"sequential\"\u001b[0m\n"
            ],
            "text/html": [
              "<pre style=\"white-space:pre;overflow-x:auto;line-height:normal;font-family:Menlo,'DejaVu Sans Mono',consolas,'Courier New',monospace\"><span style=\"font-weight: bold\">Model: \"sequential\"</span>\n",
              "</pre>\n"
            ]
          },
          "metadata": {}
        },
        {
          "output_type": "display_data",
          "data": {
            "text/plain": [
              "┏━━━━━━━━━━━━━━━━━━━━━━━━━━━━━━━━━┳━━━━━━━━━━━━━━━━━━━━━━━━┳━━━━━━━━━━━━━━━┓\n",
              "┃\u001b[1m \u001b[0m\u001b[1mLayer (type)                   \u001b[0m\u001b[1m \u001b[0m┃\u001b[1m \u001b[0m\u001b[1mOutput Shape          \u001b[0m\u001b[1m \u001b[0m┃\u001b[1m \u001b[0m\u001b[1m      Param #\u001b[0m\u001b[1m \u001b[0m┃\n",
              "┡━━━━━━━━━━━━━━━━━━━━━━━━━━━━━━━━━╇━━━━━━━━━━━━━━━━━━━━━━━━╇━━━━━━━━━━━━━━━┩\n",
              "│ dense (\u001b[38;5;33mDense\u001b[0m)                   │ (\u001b[38;5;45mNone\u001b[0m, \u001b[38;5;34m10\u001b[0m)             │            \u001b[38;5;34m30\u001b[0m │\n",
              "├─────────────────────────────────┼────────────────────────┼───────────────┤\n",
              "│ dense_1 (\u001b[38;5;33mDense\u001b[0m)                 │ (\u001b[38;5;45mNone\u001b[0m, \u001b[38;5;34m10\u001b[0m)             │           \u001b[38;5;34m110\u001b[0m │\n",
              "├─────────────────────────────────┼────────────────────────┼───────────────┤\n",
              "│ dense_2 (\u001b[38;5;33mDense\u001b[0m)                 │ (\u001b[38;5;45mNone\u001b[0m, \u001b[38;5;34m10\u001b[0m)             │           \u001b[38;5;34m110\u001b[0m │\n",
              "├─────────────────────────────────┼────────────────────────┼───────────────┤\n",
              "│ dense_3 (\u001b[38;5;33mDense\u001b[0m)                 │ (\u001b[38;5;45mNone\u001b[0m, \u001b[38;5;34m10\u001b[0m)             │           \u001b[38;5;34m110\u001b[0m │\n",
              "├─────────────────────────────────┼────────────────────────┼───────────────┤\n",
              "│ dense_4 (\u001b[38;5;33mDense\u001b[0m)                 │ (\u001b[38;5;45mNone\u001b[0m, \u001b[38;5;34m1\u001b[0m)              │            \u001b[38;5;34m11\u001b[0m │\n",
              "└─────────────────────────────────┴────────────────────────┴───────────────┘\n"
            ],
            "text/html": [
              "<pre style=\"white-space:pre;overflow-x:auto;line-height:normal;font-family:Menlo,'DejaVu Sans Mono',consolas,'Courier New',monospace\">┏━━━━━━━━━━━━━━━━━━━━━━━━━━━━━━━━━┳━━━━━━━━━━━━━━━━━━━━━━━━┳━━━━━━━━━━━━━━━┓\n",
              "┃<span style=\"font-weight: bold\"> Layer (type)                    </span>┃<span style=\"font-weight: bold\"> Output Shape           </span>┃<span style=\"font-weight: bold\">       Param # </span>┃\n",
              "┡━━━━━━━━━━━━━━━━━━━━━━━━━━━━━━━━━╇━━━━━━━━━━━━━━━━━━━━━━━━╇━━━━━━━━━━━━━━━┩\n",
              "│ dense (<span style=\"color: #0087ff; text-decoration-color: #0087ff\">Dense</span>)                   │ (<span style=\"color: #00d7ff; text-decoration-color: #00d7ff\">None</span>, <span style=\"color: #00af00; text-decoration-color: #00af00\">10</span>)             │            <span style=\"color: #00af00; text-decoration-color: #00af00\">30</span> │\n",
              "├─────────────────────────────────┼────────────────────────┼───────────────┤\n",
              "│ dense_1 (<span style=\"color: #0087ff; text-decoration-color: #0087ff\">Dense</span>)                 │ (<span style=\"color: #00d7ff; text-decoration-color: #00d7ff\">None</span>, <span style=\"color: #00af00; text-decoration-color: #00af00\">10</span>)             │           <span style=\"color: #00af00; text-decoration-color: #00af00\">110</span> │\n",
              "├─────────────────────────────────┼────────────────────────┼───────────────┤\n",
              "│ dense_2 (<span style=\"color: #0087ff; text-decoration-color: #0087ff\">Dense</span>)                 │ (<span style=\"color: #00d7ff; text-decoration-color: #00d7ff\">None</span>, <span style=\"color: #00af00; text-decoration-color: #00af00\">10</span>)             │           <span style=\"color: #00af00; text-decoration-color: #00af00\">110</span> │\n",
              "├─────────────────────────────────┼────────────────────────┼───────────────┤\n",
              "│ dense_3 (<span style=\"color: #0087ff; text-decoration-color: #0087ff\">Dense</span>)                 │ (<span style=\"color: #00d7ff; text-decoration-color: #00d7ff\">None</span>, <span style=\"color: #00af00; text-decoration-color: #00af00\">10</span>)             │           <span style=\"color: #00af00; text-decoration-color: #00af00\">110</span> │\n",
              "├─────────────────────────────────┼────────────────────────┼───────────────┤\n",
              "│ dense_4 (<span style=\"color: #0087ff; text-decoration-color: #0087ff\">Dense</span>)                 │ (<span style=\"color: #00d7ff; text-decoration-color: #00d7ff\">None</span>, <span style=\"color: #00af00; text-decoration-color: #00af00\">1</span>)              │            <span style=\"color: #00af00; text-decoration-color: #00af00\">11</span> │\n",
              "└─────────────────────────────────┴────────────────────────┴───────────────┘\n",
              "</pre>\n"
            ]
          },
          "metadata": {}
        },
        {
          "output_type": "display_data",
          "data": {
            "text/plain": [
              "\u001b[1m Total params: \u001b[0m\u001b[38;5;34m371\u001b[0m (1.45 KB)\n"
            ],
            "text/html": [
              "<pre style=\"white-space:pre;overflow-x:auto;line-height:normal;font-family:Menlo,'DejaVu Sans Mono',consolas,'Courier New',monospace\"><span style=\"font-weight: bold\"> Total params: </span><span style=\"color: #00af00; text-decoration-color: #00af00\">371</span> (1.45 KB)\n",
              "</pre>\n"
            ]
          },
          "metadata": {}
        },
        {
          "output_type": "display_data",
          "data": {
            "text/plain": [
              "\u001b[1m Trainable params: \u001b[0m\u001b[38;5;34m371\u001b[0m (1.45 KB)\n"
            ],
            "text/html": [
              "<pre style=\"white-space:pre;overflow-x:auto;line-height:normal;font-family:Menlo,'DejaVu Sans Mono',consolas,'Courier New',monospace\"><span style=\"font-weight: bold\"> Trainable params: </span><span style=\"color: #00af00; text-decoration-color: #00af00\">371</span> (1.45 KB)\n",
              "</pre>\n"
            ]
          },
          "metadata": {}
        },
        {
          "output_type": "display_data",
          "data": {
            "text/plain": [
              "\u001b[1m Non-trainable params: \u001b[0m\u001b[38;5;34m0\u001b[0m (0.00 B)\n"
            ],
            "text/html": [
              "<pre style=\"white-space:pre;overflow-x:auto;line-height:normal;font-family:Menlo,'DejaVu Sans Mono',consolas,'Courier New',monospace\"><span style=\"font-weight: bold\"> Non-trainable params: </span><span style=\"color: #00af00; text-decoration-color: #00af00\">0</span> (0.00 B)\n",
              "</pre>\n"
            ]
          },
          "metadata": {}
        }
      ]
    },
    {
      "cell_type": "code",
      "source": [
        "model.get_weights()"
      ],
      "metadata": {
        "colab": {
          "base_uri": "https://localhost:8080/"
        },
        "id": "YjST2L1qt1UP",
        "outputId": "ec31c98a-cdaa-48fb-feca-1cae72c945cd"
      },
      "execution_count": null,
      "outputs": [
        {
          "output_type": "execute_result",
          "data": {
            "text/plain": [
              "[array([[-0.01992537,  1.6374745 , -0.96022606, -0.6855436 , -2.0359473 ,\n",
              "          0.08277847, -0.84611356,  1.198132  , -0.8054857 , -0.1103655 ],\n",
              "        [-0.7138774 , -0.10189575, -0.88877594, -1.7894732 ,  1.6875727 ,\n",
              "          1.041565  , -1.0152102 ,  1.4402612 , -1.8330009 , -1.0250417 ]],\n",
              "       dtype=float32),\n",
              " array([0., 0., 0., 0., 0., 0., 0., 0., 0., 0.], dtype=float32),\n",
              " array([[ 0.13593674,  0.44730547, -0.00520064, -0.63956517, -0.34323597,\n",
              "         -0.37553394,  0.0135902 , -0.06935942, -0.07903292,  0.43555126],\n",
              "        [ 0.23969685,  0.4712066 , -0.29723307,  0.17740497, -0.41077846,\n",
              "          0.21709953,  0.02929886, -0.30756712, -0.21321411,  0.03360954],\n",
              "        [-0.53419775,  0.74519664, -0.19214638, -0.23244007, -0.19192202,\n",
              "         -0.5765914 , -0.06130598, -0.18682523,  0.7916315 ,  0.4338863 ],\n",
              "        [-0.15451409, -0.11031899,  0.7284173 ,  0.15129079,  0.6814947 ,\n",
              "          0.19304998, -0.7905115 ,  0.27787352, -0.61505336, -0.3616381 ],\n",
              "        [-0.5291102 ,  0.2814485 ,  0.16926889,  0.0037223 ,  0.18039244,\n",
              "          0.8868299 , -0.34101635,  0.4495459 , -0.24350783, -0.7433417 ],\n",
              "        [ 0.82288337,  0.12978156,  0.29683864, -0.27833202,  0.33136523,\n",
              "         -0.98644614,  0.210811  ,  0.6951682 ,  0.55336523, -0.4315085 ],\n",
              "        [-0.06900653, -0.39850977,  0.00622398,  0.19395985,  0.27524596,\n",
              "          0.11643887, -0.09285221, -0.59949994,  0.41949397,  0.7329517 ],\n",
              "        [-0.80468166,  0.84939647, -0.7907328 , -0.04458628,  0.86989254,\n",
              "          0.9224915 , -0.44539377, -0.72539604, -0.27834854, -0.3043001 ],\n",
              "        [-0.56416804, -0.17413226,  0.33734325, -0.51615405,  0.09273096,\n",
              "          0.7846001 , -0.1910749 , -0.8620573 , -0.21416298,  0.6920232 ],\n",
              "        [-0.67720205,  0.46444124, -0.36291054, -0.32924092, -0.28941992,\n",
              "          0.1218688 , -0.09294406, -0.01893634,  0.03147788,  0.03688603]],\n",
              "       dtype=float32),\n",
              " array([0., 0., 0., 0., 0., 0., 0., 0., 0., 0.], dtype=float32),\n",
              " array([[ 1.65890574e-01,  4.39059377e-01, -6.95016980e-01,\n",
              "         -2.19962597e-01,  5.12579232e-02, -1.75310194e-01,\n",
              "         -2.28098691e-01,  9.32917371e-02,  4.20147359e-01,\n",
              "         -5.67911088e-01],\n",
              "        [-3.69542688e-01,  3.48172009e-01, -6.85248554e-01,\n",
              "          7.58746266e-01,  1.23450998e-02, -5.50364852e-01,\n",
              "          3.35625447e-02, -5.45869589e-01, -2.93351024e-01,\n",
              "          6.23870432e-01],\n",
              "        [ 6.64860308e-01, -6.10564835e-02,  6.23506427e-01,\n",
              "         -3.44003230e-01,  3.94389778e-01,  6.00971043e-01,\n",
              "          1.36281341e-01, -1.72085427e-02,  3.70171279e-01,\n",
              "         -6.83997810e-01],\n",
              "        [ 5.62142074e-01, -8.70588183e-01, -3.43256384e-01,\n",
              "          1.38832629e-01, -4.02046323e-01,  8.87267828e-01,\n",
              "         -1.39745876e-01,  3.94206852e-01, -1.59971803e-01,\n",
              "          8.09930027e-01],\n",
              "        [-5.40856388e-04, -2.00250462e-01, -7.73214281e-01,\n",
              "         -6.74045011e-02, -3.51853251e-01, -5.92198253e-01,\n",
              "          1.64526477e-01,  7.34811366e-01, -7.89492503e-02,\n",
              "         -1.94698453e-01],\n",
              "        [-4.64601785e-01, -2.69860238e-01, -7.58481562e-01,\n",
              "         -6.77544951e-01,  1.68864444e-01,  2.99277175e-02,\n",
              "          2.72391826e-01, -8.30048621e-01,  3.37650359e-01,\n",
              "         -4.89694089e-01],\n",
              "        [ 3.41852069e-01,  5.14977872e-01,  9.44233477e-01,\n",
              "          6.53492272e-01,  7.28554547e-01, -6.51701868e-01,\n",
              "         -1.65353924e-01, -7.23528743e-01,  6.67667925e-01,\n",
              "         -6.00720108e-01],\n",
              "        [-1.65439531e-01, -8.21667373e-01, -1.86929405e-01,\n",
              "          7.43992209e-01, -7.39438355e-01,  3.94759417e-01,\n",
              "          4.20217007e-01,  3.47824186e-01, -5.33012211e-01,\n",
              "         -4.36361849e-01],\n",
              "        [ 2.25673899e-01, -2.75223374e-01, -6.01819277e-01,\n",
              "         -1.47718459e-01, -2.05232635e-01, -6.14952147e-01,\n",
              "          4.80157852e-01,  7.51393318e-01,  1.80916786e-01,\n",
              "          9.97658908e-01],\n",
              "        [-2.67034143e-01,  4.89316881e-01, -2.86689669e-01,\n",
              "          6.04802310e-01,  1.40812639e-02, -1.20026626e-01,\n",
              "          2.31921926e-01,  6.66201770e-01,  1.81040496e-01,\n",
              "          8.45290273e-02]], dtype=float32),\n",
              " array([0., 0., 0., 0., 0., 0., 0., 0., 0., 0.], dtype=float32),\n",
              " array([[ 0.03781518,  0.46923247,  0.50358605, -0.86383164, -0.7182933 ,\n",
              "         -0.09049629, -0.09315296,  0.0072697 , -0.02731992, -0.12796274],\n",
              "        [ 0.29685152,  0.63587654,  0.6541674 ,  0.77530336,  0.6506285 ,\n",
              "         -0.07725762,  0.84812725, -0.89339036, -0.1820286 ,  0.03575401],\n",
              "        [-0.03330472, -0.64393663, -0.73584753,  0.4785278 ,  0.6911057 ,\n",
              "          0.06148877,  0.82829386,  0.23082554, -0.57291716,  0.32281578],\n",
              "        [ 0.53867406, -0.48872423, -0.49518946,  0.04806048,  0.92668384,\n",
              "         -0.11127165, -0.40184134, -0.29064897,  0.18706538,  0.22367573],\n",
              "        [ 0.11178534,  0.7806309 , -0.39442042,  0.52202576,  0.82019717,\n",
              "         -0.48713395, -0.37102932,  0.36537668, -0.25513402,  0.17806174],\n",
              "        [ 0.28952327, -0.47173783,  0.12714554,  0.61090356, -0.22953771,\n",
              "         -0.11563723, -0.58761007, -0.05796919,  0.8001375 ,  0.20966698],\n",
              "        [-0.19421896, -0.3429324 ,  0.31737858, -0.613661  ,  0.05784001,\n",
              "          0.6499077 ,  0.10511415,  0.08515093, -0.08780643,  0.02231014],\n",
              "        [ 0.05464088, -0.19114487, -0.2020373 ,  0.9183937 , -0.26151305,\n",
              "         -0.64071184,  0.9361952 ,  0.45655572,  0.08898079, -0.46396694],\n",
              "        [-0.11078058,  0.4612785 , -0.57998675,  0.44979414, -0.5756393 ,\n",
              "          0.26130134,  0.5260902 ,  0.24901885,  0.35224217,  0.01594514],\n",
              "        [-0.3499896 , -0.17230107,  0.260975  , -0.7839279 , -0.04998346,\n",
              "         -0.39359292,  0.2476472 , -0.20402664, -0.28558204, -0.37730366]],\n",
              "       dtype=float32),\n",
              " array([0., 0., 0., 0., 0., 0., 0., 0., 0., 0.], dtype=float32),\n",
              " array([[ 0.7311438 ],\n",
              "        [ 0.5624257 ],\n",
              "        [ 0.2647645 ],\n",
              "        [ 0.16772825],\n",
              "        [ 0.7375    ],\n",
              "        [-0.3982059 ],\n",
              "        [-0.6069772 ],\n",
              "        [-0.06564385],\n",
              "        [-0.48617333],\n",
              "        [ 0.5902429 ]], dtype=float32),\n",
              " array([0.], dtype=float32)]"
            ]
          },
          "metadata": {},
          "execution_count": 22
        }
      ]
    },
    {
      "cell_type": "code",
      "source": [
        "initial_weights = model.get_weights()"
      ],
      "metadata": {
        "id": "SNnRle4Dt4bc"
      },
      "execution_count": null,
      "outputs": []
    },
    {
      "cell_type": "code",
      "source": [
        "initial_weights[0] = np.random.randn(2,10)*np.sqrt(1/2)\n",
        "initial_weights[1] = np.zeros(model.get_weights()[1].shape)\n",
        "initial_weights[2] = np.random.randn(10,10)*np.sqrt(1/10)\n",
        "initial_weights[3] = np.zeros(model.get_weights()[3].shape)\n",
        "initial_weights[4] = np.random.randn(10,10)*np.sqrt(1/10)\n",
        "initial_weights[5] = np.zeros(model.get_weights()[5].shape)\n",
        "initial_weights[6] = np.random.randn(10,10)*np.sqrt(1/10)\n",
        "initial_weights[7] = np.zeros(model.get_weights()[7].shape)\n",
        "initial_weights[8] = np.random.randn(10,1)*np.sqrt(1/10)\n",
        "initial_weights[9] = np.zeros(model.get_weights()[9].shape)"
      ],
      "metadata": {
        "id": "T6mklkSot6GI"
      },
      "execution_count": null,
      "outputs": []
    },
    {
      "cell_type": "code",
      "source": [
        "model.set_weights(initial_weights)"
      ],
      "metadata": {
        "id": "cnoX9yK8ueEM"
      },
      "execution_count": null,
      "outputs": []
    },
    {
      "cell_type": "code",
      "source": [
        "model.get_weights()"
      ],
      "metadata": {
        "colab": {
          "base_uri": "https://localhost:8080/"
        },
        "id": "1guey_KUujTP",
        "outputId": "d09b8c96-7769-40c6-bb25-e3269aea6a02"
      },
      "execution_count": null,
      "outputs": [
        {
          "output_type": "execute_result",
          "data": {
            "text/plain": [
              "[array([[-0.10495991, -0.9430531 ,  0.66086626, -0.1044763 , -1.4102751 ,\n",
              "         -1.0325493 , -0.3701135 , -0.14735714, -0.29265913,  0.68155   ],\n",
              "        [-0.39484143,  0.6323521 , -0.0801958 ,  0.562686  ,  0.1691996 ,\n",
              "          0.04436013,  0.68755996, -0.61969763,  0.3523873 ,  0.7220163 ]],\n",
              "       dtype=float32),\n",
              " array([0., 0., 0., 0., 0., 0., 0., 0., 0., 0.], dtype=float32),\n",
              " array([[-0.4147778 , -0.53531283,  0.3731053 , -0.06618731, -0.09909667,\n",
              "          0.35247433,  0.60976315, -0.3289795 ,  0.15179542, -0.35985112],\n",
              "        [ 0.18373363, -0.2031072 , -0.0133991 , -0.24529618, -0.04980256,\n",
              "          0.17567453,  0.5361793 , -0.5525918 ,  0.18398784, -0.04601664],\n",
              "        [-0.22751129,  0.2932353 , -0.3537831 , -0.09127408, -0.39878124,\n",
              "         -0.4628535 ,  0.5377644 ,  0.25280616,  0.42448243, -0.30095333],\n",
              "        [ 0.05010179, -0.16859545, -0.14138587, -0.41355062, -0.03724803,\n",
              "          0.32960474,  0.16182718,  0.30505887,  0.10764834,  0.79650205],\n",
              "        [-0.5736034 ,  0.23412636,  0.2611668 ,  0.21829572, -0.14318502,\n",
              "         -0.19197461, -0.35774088, -0.06749879,  0.37239325,  0.22889425],\n",
              "        [ 0.54206187,  1.0066642 ,  0.6389095 , -0.23963791, -0.08105502,\n",
              "          0.4046186 , -0.4179617 ,  0.4084968 ,  0.35355648, -0.9201687 ],\n",
              "        [ 0.39587307,  0.00878214, -0.23034368,  0.11473845, -0.41560507,\n",
              "          0.90509194, -0.2842671 ,  0.00455995, -0.3008812 ,  0.09991695],\n",
              "        [-0.4421679 , -0.39519224, -0.5060121 , -0.29400337, -0.05394983,\n",
              "         -0.07435057, -0.6782753 , -0.04300389,  0.20633455,  0.60878366],\n",
              "        [-0.40349463, -0.50817084,  0.28265858,  0.07623275, -0.00106338,\n",
              "          0.5799274 ,  0.16611414, -0.31363943,  0.37994692,  0.1720696 ],\n",
              "        [ 0.21130532,  0.1895203 ,  0.5529833 ,  0.5668311 ,  0.07438139,\n",
              "         -0.61309713, -0.06976561,  0.45298934,  0.16762465, -0.34776393]],\n",
              "       dtype=float32),\n",
              " array([0., 0., 0., 0., 0., 0., 0., 0., 0., 0.], dtype=float32),\n",
              " array([[ 0.4998319 ,  0.21483868,  0.0246681 ,  0.6709465 ,  0.6376429 ,\n",
              "          0.29681715, -0.42394546,  0.72518206,  0.69687265,  0.33253926],\n",
              "        [-0.34620148,  0.4207443 , -0.09895459,  0.02381742, -0.48196274,\n",
              "         -0.09635786,  0.59801084, -0.3066851 ,  0.5284939 , -0.329891  ],\n",
              "        [-0.27121854, -0.04266506, -0.4034359 , -0.09080495,  0.07642114,\n",
              "          0.18071404, -0.2809219 ,  0.1739282 ,  0.11687595,  0.06012921],\n",
              "        [-0.6655973 ,  0.26979768,  0.15266313, -0.17617007, -0.31122014,\n",
              "          0.05030284,  0.2432139 ,  0.36584958,  0.59633297,  0.16798924],\n",
              "        [-0.22506246, -0.21302257,  0.1576115 , -0.28738135,  0.00256085,\n",
              "          0.1303049 ,  0.11420534,  0.09626933,  0.21420395,  0.23679611],\n",
              "        [ 0.47081563,  0.14425287, -0.4309145 ,  0.54802865, -0.03297681,\n",
              "         -0.1156412 ,  0.71165377,  0.35156548, -0.23394579,  0.09426806],\n",
              "        [-0.12742485, -0.02834346,  0.21049887,  0.03123729, -0.10186989,\n",
              "          0.124923  , -0.0568508 ,  0.11580741,  0.11783345,  0.47795606],\n",
              "        [-0.771037  ,  0.15242295, -0.5380387 ,  0.4964429 ,  0.02826181,\n",
              "          0.5517196 ,  0.08057389, -0.3909392 , -0.17820534,  0.5412888 ],\n",
              "        [-0.33526707, -0.1347405 , -0.03093769,  0.06104767, -0.32471693,\n",
              "          0.13503534,  0.44838536, -0.49454257, -0.0923011 , -0.03555993],\n",
              "        [-0.05828166,  0.35080832, -0.18919721, -0.41736066, -0.2687095 ,\n",
              "          0.7598979 ,  0.5177229 , -0.6821995 ,  0.20632605, -0.20204517]],\n",
              "       dtype=float32),\n",
              " array([0., 0., 0., 0., 0., 0., 0., 0., 0., 0.], dtype=float32),\n",
              " array([[-0.23425047, -0.12688635, -0.36792904, -0.02739746, -0.50683534,\n",
              "         -0.60386324, -0.45693204, -0.5771207 ,  0.43738022, -0.12570964],\n",
              "        [ 0.5440578 , -0.14158207,  0.06146006, -0.17002891,  0.5415254 ,\n",
              "          0.17636433, -0.2179432 ,  0.346056  , -0.2413645 ,  0.16416197],\n",
              "        [ 0.01684031, -0.54404426,  0.17235813, -0.14987043,  0.15955156,\n",
              "         -0.23046552, -0.36043072, -0.32397068, -0.08148759,  0.47295246],\n",
              "        [-0.04004442,  0.1075189 ,  0.13530335,  0.37170163, -0.2582428 ,\n",
              "          0.1659972 , -0.42101565, -0.4417689 , -0.06630845, -0.19713987],\n",
              "        [-0.4004321 , -0.34217033, -0.354984  , -0.28535423, -0.74582684,\n",
              "          0.25648966, -0.15492679,  0.45400777, -0.21156543,  0.01416281],\n",
              "        [ 0.03528575,  0.05279696, -0.53946155, -0.20341001,  0.02034779,\n",
              "          0.3462392 ,  0.21928416,  1.0786026 , -0.24674934, -0.24670951],\n",
              "        [ 0.31575346,  0.21775083, -0.2721182 ,  0.19672695, -0.4305796 ,\n",
              "          0.00242166, -0.03774969,  0.18556651,  0.49308464,  0.3547575 ],\n",
              "        [-0.23067254, -0.21228139, -0.06038185, -0.05411338,  0.25716144,\n",
              "          0.39941266, -0.46350688, -0.1530493 , -0.2940733 , -0.01417685],\n",
              "        [ 0.11160022, -0.2785441 ,  0.3474989 , -0.1461911 , -0.4318977 ,\n",
              "         -0.63914275,  0.26491618, -0.38103223,  0.24975684, -0.19553974],\n",
              "        [ 0.04354075,  0.31347597, -0.11603101, -0.44965985, -0.30929375,\n",
              "          0.05540248, -0.14132155,  0.26791632,  0.20510739,  0.28740984]],\n",
              "       dtype=float32),\n",
              " array([0., 0., 0., 0., 0., 0., 0., 0., 0., 0.], dtype=float32),\n",
              " array([[-0.39242962],\n",
              "        [ 0.1673533 ],\n",
              "        [-0.17700173],\n",
              "        [ 0.20237033],\n",
              "        [ 0.15761979],\n",
              "        [ 0.26274052],\n",
              "        [-0.3503215 ],\n",
              "        [ 0.744125  ],\n",
              "        [ 0.068354  ],\n",
              "        [ 0.4833634 ]], dtype=float32),\n",
              " array([0.], dtype=float32)]"
            ]
          },
          "metadata": {},
          "execution_count": 26
        }
      ]
    },
    {
      "cell_type": "code",
      "source": [
        "model.compile(loss='binary_crossentropy',optimizer='adam',metrics=['accuracy'])"
      ],
      "metadata": {
        "id": "bjAyhD8mulGG"
      },
      "execution_count": null,
      "outputs": []
    },
    {
      "cell_type": "code",
      "source": [
        "history = model.fit(X,y,epochs=100,validation_split=0.2)"
      ],
      "metadata": {
        "colab": {
          "base_uri": "https://localhost:8080/"
        },
        "id": "H1wa0jCaun8z",
        "outputId": "df38e5e3-2c5a-481c-c8a9-952f92aef288"
      },
      "execution_count": null,
      "outputs": [
        {
          "output_type": "stream",
          "name": "stdout",
          "text": [
            "Epoch 1/100\n",
            "\u001b[1m3/3\u001b[0m \u001b[32m━━━━━━━━━━━━━━━━━━━━\u001b[0m\u001b[37m\u001b[0m \u001b[1m3s\u001b[0m 217ms/step - accuracy: 0.4961 - loss: 0.6986 - val_accuracy: 0.5000 - val_loss: 0.6894\n",
            "Epoch 2/100\n",
            "\u001b[1m3/3\u001b[0m \u001b[32m━━━━━━━━━━━━━━━━━━━━\u001b[0m\u001b[37m\u001b[0m \u001b[1m0s\u001b[0m 56ms/step - accuracy: 0.4875 - loss: 0.6840 - val_accuracy: 0.5000 - val_loss: 0.6778\n",
            "Epoch 3/100\n",
            "\u001b[1m3/3\u001b[0m \u001b[32m━━━━━━━━━━━━━━━━━━━━\u001b[0m\u001b[37m\u001b[0m \u001b[1m0s\u001b[0m 34ms/step - accuracy: 0.4758 - loss: 0.6823 - val_accuracy: 0.5000 - val_loss: 0.6684\n",
            "Epoch 4/100\n",
            "\u001b[1m3/3\u001b[0m \u001b[32m━━━━━━━━━━━━━━━━━━━━\u001b[0m\u001b[37m\u001b[0m \u001b[1m0s\u001b[0m 34ms/step - accuracy: 0.5219 - loss: 0.6740 - val_accuracy: 0.5500 - val_loss: 0.6598\n",
            "Epoch 5/100\n",
            "\u001b[1m3/3\u001b[0m \u001b[32m━━━━━━━━━━━━━━━━━━━━\u001b[0m\u001b[37m\u001b[0m \u001b[1m0s\u001b[0m 33ms/step - accuracy: 0.5508 - loss: 0.6722 - val_accuracy: 0.7500 - val_loss: 0.6522\n",
            "Epoch 6/100\n",
            "\u001b[1m3/3\u001b[0m \u001b[32m━━━━━━━━━━━━━━━━━━━━\u001b[0m\u001b[37m\u001b[0m \u001b[1m0s\u001b[0m 35ms/step - accuracy: 0.6406 - loss: 0.6608 - val_accuracy: 0.8000 - val_loss: 0.6451\n",
            "Epoch 7/100\n",
            "\u001b[1m3/3\u001b[0m \u001b[32m━━━━━━━━━━━━━━━━━━━━\u001b[0m\u001b[37m\u001b[0m \u001b[1m0s\u001b[0m 33ms/step - accuracy: 0.6195 - loss: 0.6552 - val_accuracy: 0.8500 - val_loss: 0.6383\n",
            "Epoch 8/100\n",
            "\u001b[1m3/3\u001b[0m \u001b[32m━━━━━━━━━━━━━━━━━━━━\u001b[0m\u001b[37m\u001b[0m \u001b[1m0s\u001b[0m 35ms/step - accuracy: 0.6398 - loss: 0.6549 - val_accuracy: 0.8500 - val_loss: 0.6313\n",
            "Epoch 9/100\n",
            "\u001b[1m3/3\u001b[0m \u001b[32m━━━━━━━━━━━━━━━━━━━━\u001b[0m\u001b[37m\u001b[0m \u001b[1m0s\u001b[0m 33ms/step - accuracy: 0.6320 - loss: 0.6519 - val_accuracy: 0.8500 - val_loss: 0.6240\n",
            "Epoch 10/100\n",
            "\u001b[1m3/3\u001b[0m \u001b[32m━━━━━━━━━━━━━━━━━━━━\u001b[0m\u001b[37m\u001b[0m \u001b[1m0s\u001b[0m 34ms/step - accuracy: 0.6797 - loss: 0.6362 - val_accuracy: 0.8500 - val_loss: 0.6163\n",
            "Epoch 11/100\n",
            "\u001b[1m3/3\u001b[0m \u001b[32m━━━━━━━━━━━━━━━━━━━━\u001b[0m\u001b[37m\u001b[0m \u001b[1m0s\u001b[0m 40ms/step - accuracy: 0.7070 - loss: 0.6320 - val_accuracy: 0.8500 - val_loss: 0.6089\n",
            "Epoch 12/100\n",
            "\u001b[1m3/3\u001b[0m \u001b[32m━━━━━━━━━━━━━━━━━━━━\u001b[0m\u001b[37m\u001b[0m \u001b[1m0s\u001b[0m 33ms/step - accuracy: 0.6625 - loss: 0.6344 - val_accuracy: 0.8500 - val_loss: 0.6015\n",
            "Epoch 13/100\n",
            "\u001b[1m3/3\u001b[0m \u001b[32m━━━━━━━━━━━━━━━━━━━━\u001b[0m\u001b[37m\u001b[0m \u001b[1m0s\u001b[0m 34ms/step - accuracy: 0.7250 - loss: 0.6194 - val_accuracy: 0.8500 - val_loss: 0.5937\n",
            "Epoch 14/100\n",
            "\u001b[1m3/3\u001b[0m \u001b[32m━━━━━━━━━━━━━━━━━━━━\u001b[0m\u001b[37m\u001b[0m \u001b[1m0s\u001b[0m 35ms/step - accuracy: 0.7484 - loss: 0.6107 - val_accuracy: 0.8500 - val_loss: 0.5856\n",
            "Epoch 15/100\n",
            "\u001b[1m3/3\u001b[0m \u001b[32m━━━━━━━━━━━━━━━━━━━━\u001b[0m\u001b[37m\u001b[0m \u001b[1m0s\u001b[0m 34ms/step - accuracy: 0.7055 - loss: 0.6114 - val_accuracy: 0.8500 - val_loss: 0.5776\n",
            "Epoch 16/100\n",
            "\u001b[1m3/3\u001b[0m \u001b[32m━━━━━━━━━━━━━━━━━━━━\u001b[0m\u001b[37m\u001b[0m \u001b[1m0s\u001b[0m 32ms/step - accuracy: 0.6781 - loss: 0.6143 - val_accuracy: 0.8500 - val_loss: 0.5696\n",
            "Epoch 17/100\n",
            "\u001b[1m3/3\u001b[0m \u001b[32m━━━━━━━━━━━━━━━━━━━━\u001b[0m\u001b[37m\u001b[0m \u001b[1m0s\u001b[0m 32ms/step - accuracy: 0.7336 - loss: 0.5936 - val_accuracy: 0.8500 - val_loss: 0.5613\n",
            "Epoch 18/100\n",
            "\u001b[1m3/3\u001b[0m \u001b[32m━━━━━━━━━━━━━━━━━━━━\u001b[0m\u001b[37m\u001b[0m \u001b[1m0s\u001b[0m 36ms/step - accuracy: 0.7281 - loss: 0.5977 - val_accuracy: 0.8500 - val_loss: 0.5530\n",
            "Epoch 19/100\n",
            "\u001b[1m3/3\u001b[0m \u001b[32m━━━━━━━━━━━━━━━━━━━━\u001b[0m\u001b[37m\u001b[0m \u001b[1m0s\u001b[0m 35ms/step - accuracy: 0.7242 - loss: 0.5912 - val_accuracy: 0.8500 - val_loss: 0.5442\n",
            "Epoch 20/100\n",
            "\u001b[1m3/3\u001b[0m \u001b[32m━━━━━━━━━━━━━━━━━━━━\u001b[0m\u001b[37m\u001b[0m \u001b[1m0s\u001b[0m 34ms/step - accuracy: 0.7398 - loss: 0.5845 - val_accuracy: 0.8500 - val_loss: 0.5352\n",
            "Epoch 21/100\n",
            "\u001b[1m3/3\u001b[0m \u001b[32m━━━━━━━━━━━━━━━━━━━━\u001b[0m\u001b[37m\u001b[0m \u001b[1m0s\u001b[0m 33ms/step - accuracy: 0.7695 - loss: 0.5653 - val_accuracy: 0.8500 - val_loss: 0.5263\n",
            "Epoch 22/100\n",
            "\u001b[1m3/3\u001b[0m \u001b[32m━━━━━━━━━━━━━━━━━━━━\u001b[0m\u001b[37m\u001b[0m \u001b[1m0s\u001b[0m 34ms/step - accuracy: 0.7875 - loss: 0.5623 - val_accuracy: 0.8500 - val_loss: 0.5173\n",
            "Epoch 23/100\n",
            "\u001b[1m3/3\u001b[0m \u001b[32m━━━━━━━━━━━━━━━━━━━━\u001b[0m\u001b[37m\u001b[0m \u001b[1m0s\u001b[0m 37ms/step - accuracy: 0.7500 - loss: 0.5680 - val_accuracy: 0.8500 - val_loss: 0.5083\n",
            "Epoch 24/100\n",
            "\u001b[1m3/3\u001b[0m \u001b[32m━━━━━━━━━━━━━━━━━━━━\u001b[0m\u001b[37m\u001b[0m \u001b[1m0s\u001b[0m 32ms/step - accuracy: 0.7617 - loss: 0.5498 - val_accuracy: 0.8500 - val_loss: 0.4985\n",
            "Epoch 25/100\n",
            "\u001b[1m3/3\u001b[0m \u001b[32m━━━━━━━━━━━━━━━━━━━━\u001b[0m\u001b[37m\u001b[0m \u001b[1m0s\u001b[0m 33ms/step - accuracy: 0.7523 - loss: 0.5506 - val_accuracy: 0.8500 - val_loss: 0.4886\n",
            "Epoch 26/100\n",
            "\u001b[1m3/3\u001b[0m \u001b[32m━━━━━━━━━━━━━━━━━━━━\u001b[0m\u001b[37m\u001b[0m \u001b[1m0s\u001b[0m 34ms/step - accuracy: 0.7508 - loss: 0.5462 - val_accuracy: 0.8500 - val_loss: 0.4782\n",
            "Epoch 27/100\n",
            "\u001b[1m3/3\u001b[0m \u001b[32m━━━━━━━━━━━━━━━━━━━━\u001b[0m\u001b[37m\u001b[0m \u001b[1m0s\u001b[0m 33ms/step - accuracy: 0.7898 - loss: 0.5255 - val_accuracy: 0.8500 - val_loss: 0.4674\n",
            "Epoch 28/100\n",
            "\u001b[1m3/3\u001b[0m \u001b[32m━━━━━━━━━━━━━━━━━━━━\u001b[0m\u001b[37m\u001b[0m \u001b[1m0s\u001b[0m 35ms/step - accuracy: 0.7664 - loss: 0.5214 - val_accuracy: 0.8500 - val_loss: 0.4567\n",
            "Epoch 29/100\n",
            "\u001b[1m3/3\u001b[0m \u001b[32m━━━━━━━━━━━━━━━━━━━━\u001b[0m\u001b[37m\u001b[0m \u001b[1m0s\u001b[0m 35ms/step - accuracy: 0.7742 - loss: 0.5123 - val_accuracy: 0.8500 - val_loss: 0.4457\n",
            "Epoch 30/100\n",
            "\u001b[1m3/3\u001b[0m \u001b[32m━━━━━━━━━━━━━━━━━━━━\u001b[0m\u001b[37m\u001b[0m \u001b[1m0s\u001b[0m 33ms/step - accuracy: 0.7844 - loss: 0.5077 - val_accuracy: 0.8500 - val_loss: 0.4343\n",
            "Epoch 31/100\n",
            "\u001b[1m3/3\u001b[0m \u001b[32m━━━━━━━━━━━━━━━━━━━━\u001b[0m\u001b[37m\u001b[0m \u001b[1m0s\u001b[0m 33ms/step - accuracy: 0.7648 - loss: 0.5107 - val_accuracy: 0.8500 - val_loss: 0.4231\n",
            "Epoch 32/100\n",
            "\u001b[1m3/3\u001b[0m \u001b[32m━━━━━━━━━━━━━━━━━━━━\u001b[0m\u001b[37m\u001b[0m \u001b[1m0s\u001b[0m 35ms/step - accuracy: 0.7922 - loss: 0.5038 - val_accuracy: 0.8500 - val_loss: 0.4119\n",
            "Epoch 33/100\n",
            "\u001b[1m3/3\u001b[0m \u001b[32m━━━━━━━━━━━━━━━━━━━━\u001b[0m\u001b[37m\u001b[0m \u001b[1m0s\u001b[0m 36ms/step - accuracy: 0.8078 - loss: 0.4800 - val_accuracy: 0.8500 - val_loss: 0.4006\n",
            "Epoch 34/100\n",
            "\u001b[1m3/3\u001b[0m \u001b[32m━━━━━━━━━━━━━━━━━━━━\u001b[0m\u001b[37m\u001b[0m \u001b[1m0s\u001b[0m 34ms/step - accuracy: 0.8047 - loss: 0.4785 - val_accuracy: 0.8500 - val_loss: 0.3894\n",
            "Epoch 35/100\n",
            "\u001b[1m3/3\u001b[0m \u001b[32m━━━━━━━━━━━━━━━━━━━━\u001b[0m\u001b[37m\u001b[0m \u001b[1m0s\u001b[0m 34ms/step - accuracy: 0.8125 - loss: 0.4755 - val_accuracy: 0.8500 - val_loss: 0.3784\n",
            "Epoch 36/100\n",
            "\u001b[1m3/3\u001b[0m \u001b[32m━━━━━━━━━━━━━━━━━━━━\u001b[0m\u001b[37m\u001b[0m \u001b[1m0s\u001b[0m 41ms/step - accuracy: 0.8398 - loss: 0.4275 - val_accuracy: 0.8500 - val_loss: 0.3670\n",
            "Epoch 37/100\n",
            "\u001b[1m3/3\u001b[0m \u001b[32m━━━━━━━━━━━━━━━━━━━━\u001b[0m\u001b[37m\u001b[0m \u001b[1m0s\u001b[0m 35ms/step - accuracy: 0.8266 - loss: 0.4506 - val_accuracy: 0.8500 - val_loss: 0.3566\n",
            "Epoch 38/100\n",
            "\u001b[1m3/3\u001b[0m \u001b[32m━━━━━━━━━━━━━━━━━━━━\u001b[0m\u001b[37m\u001b[0m \u001b[1m0s\u001b[0m 34ms/step - accuracy: 0.8422 - loss: 0.4320 - val_accuracy: 0.8500 - val_loss: 0.3464\n",
            "Epoch 39/100\n",
            "\u001b[1m3/3\u001b[0m \u001b[32m━━━━━━━━━━━━━━━━━━━━\u001b[0m\u001b[37m\u001b[0m \u001b[1m0s\u001b[0m 33ms/step - accuracy: 0.8500 - loss: 0.4215 - val_accuracy: 0.8500 - val_loss: 0.3368\n",
            "Epoch 40/100\n",
            "\u001b[1m3/3\u001b[0m \u001b[32m━━━━━━━━━━━━━━━━━━━━\u001b[0m\u001b[37m\u001b[0m \u001b[1m0s\u001b[0m 37ms/step - accuracy: 0.8266 - loss: 0.4251 - val_accuracy: 0.9000 - val_loss: 0.3273\n",
            "Epoch 41/100\n",
            "\u001b[1m3/3\u001b[0m \u001b[32m━━━━━━━━━━━━━━━━━━━━\u001b[0m\u001b[37m\u001b[0m \u001b[1m0s\u001b[0m 34ms/step - accuracy: 0.8305 - loss: 0.4136 - val_accuracy: 0.9000 - val_loss: 0.3183\n",
            "Epoch 42/100\n",
            "\u001b[1m3/3\u001b[0m \u001b[32m━━━━━━━━━━━━━━━━━━━━\u001b[0m\u001b[37m\u001b[0m \u001b[1m0s\u001b[0m 34ms/step - accuracy: 0.8344 - loss: 0.4037 - val_accuracy: 0.9000 - val_loss: 0.3096\n",
            "Epoch 43/100\n",
            "\u001b[1m3/3\u001b[0m \u001b[32m━━━━━━━━━━━━━━━━━━━━\u001b[0m\u001b[37m\u001b[0m \u001b[1m0s\u001b[0m 34ms/step - accuracy: 0.8344 - loss: 0.4085 - val_accuracy: 0.9000 - val_loss: 0.3017\n",
            "Epoch 44/100\n",
            "\u001b[1m3/3\u001b[0m \u001b[32m━━━━━━━━━━━━━━━━━━━━\u001b[0m\u001b[37m\u001b[0m \u001b[1m0s\u001b[0m 56ms/step - accuracy: 0.8328 - loss: 0.4104 - val_accuracy: 0.9000 - val_loss: 0.2946\n",
            "Epoch 45/100\n",
            "\u001b[1m3/3\u001b[0m \u001b[32m━━━━━━━━━━━━━━━━━━━━\u001b[0m\u001b[37m\u001b[0m \u001b[1m0s\u001b[0m 34ms/step - accuracy: 0.8719 - loss: 0.3830 - val_accuracy: 0.9000 - val_loss: 0.2874\n",
            "Epoch 46/100\n",
            "\u001b[1m3/3\u001b[0m \u001b[32m━━━━━━━━━━━━━━━━━━━━\u001b[0m\u001b[37m\u001b[0m \u001b[1m0s\u001b[0m 34ms/step - accuracy: 0.8289 - loss: 0.3908 - val_accuracy: 0.9000 - val_loss: 0.2808\n",
            "Epoch 47/100\n",
            "\u001b[1m3/3\u001b[0m \u001b[32m━━━━━━━━━━━━━━━━━━━━\u001b[0m\u001b[37m\u001b[0m \u001b[1m0s\u001b[0m 33ms/step - accuracy: 0.8313 - loss: 0.4143 - val_accuracy: 0.9000 - val_loss: 0.2746\n",
            "Epoch 48/100\n",
            "\u001b[1m3/3\u001b[0m \u001b[32m━━━━━━━━━━━━━━━━━━━━\u001b[0m\u001b[37m\u001b[0m \u001b[1m0s\u001b[0m 34ms/step - accuracy: 0.8273 - loss: 0.3991 - val_accuracy: 0.9000 - val_loss: 0.2684\n",
            "Epoch 49/100\n",
            "\u001b[1m3/3\u001b[0m \u001b[32m━━━━━━━━━━━━━━━━━━━━\u001b[0m\u001b[37m\u001b[0m \u001b[1m0s\u001b[0m 35ms/step - accuracy: 0.8625 - loss: 0.3636 - val_accuracy: 0.9000 - val_loss: 0.2626\n",
            "Epoch 50/100\n",
            "\u001b[1m3/3\u001b[0m \u001b[32m━━━━━━━━━━━━━━━━━━━━\u001b[0m\u001b[37m\u001b[0m \u001b[1m0s\u001b[0m 34ms/step - accuracy: 0.8625 - loss: 0.3650 - val_accuracy: 0.9000 - val_loss: 0.2575\n",
            "Epoch 51/100\n",
            "\u001b[1m3/3\u001b[0m \u001b[32m━━━━━━━━━━━━━━━━━━━━\u001b[0m\u001b[37m\u001b[0m \u001b[1m0s\u001b[0m 33ms/step - accuracy: 0.8313 - loss: 0.3889 - val_accuracy: 0.9000 - val_loss: 0.2529\n",
            "Epoch 52/100\n",
            "\u001b[1m3/3\u001b[0m \u001b[32m━━━━━━━━━━━━━━━━━━━━\u001b[0m\u001b[37m\u001b[0m \u001b[1m0s\u001b[0m 41ms/step - accuracy: 0.8195 - loss: 0.3974 - val_accuracy: 0.9000 - val_loss: 0.2486\n",
            "Epoch 53/100\n",
            "\u001b[1m3/3\u001b[0m \u001b[32m━━━━━━━━━━━━━━━━━━━━\u001b[0m\u001b[37m\u001b[0m \u001b[1m0s\u001b[0m 34ms/step - accuracy: 0.8859 - loss: 0.3324 - val_accuracy: 0.9000 - val_loss: 0.2447\n",
            "Epoch 54/100\n",
            "\u001b[1m3/3\u001b[0m \u001b[32m━━━━━━━━━━━━━━━━━━━━\u001b[0m\u001b[37m\u001b[0m \u001b[1m0s\u001b[0m 32ms/step - accuracy: 0.8453 - loss: 0.3894 - val_accuracy: 0.9500 - val_loss: 0.2420\n",
            "Epoch 55/100\n",
            "\u001b[1m3/3\u001b[0m \u001b[32m━━━━━━━━━━━━━━━━━━━━\u001b[0m\u001b[37m\u001b[0m \u001b[1m0s\u001b[0m 33ms/step - accuracy: 0.8531 - loss: 0.3747 - val_accuracy: 0.9500 - val_loss: 0.2388\n",
            "Epoch 56/100\n",
            "\u001b[1m3/3\u001b[0m \u001b[32m━━━━━━━━━━━━━━━━━━━━\u001b[0m\u001b[37m\u001b[0m \u001b[1m0s\u001b[0m 37ms/step - accuracy: 0.8492 - loss: 0.3640 - val_accuracy: 0.9500 - val_loss: 0.2357\n",
            "Epoch 57/100\n",
            "\u001b[1m3/3\u001b[0m \u001b[32m━━━━━━━━━━━━━━━━━━━━\u001b[0m\u001b[37m\u001b[0m \u001b[1m0s\u001b[0m 34ms/step - accuracy: 0.8805 - loss: 0.3267 - val_accuracy: 0.9500 - val_loss: 0.2325\n",
            "Epoch 58/100\n",
            "\u001b[1m3/3\u001b[0m \u001b[32m━━━━━━━━━━━━━━━━━━━━\u001b[0m\u001b[37m\u001b[0m \u001b[1m0s\u001b[0m 34ms/step - accuracy: 0.8648 - loss: 0.3568 - val_accuracy: 0.9000 - val_loss: 0.2315\n",
            "Epoch 59/100\n",
            "\u001b[1m3/3\u001b[0m \u001b[32m━━━━━━━━━━━━━━━━━━━━\u001b[0m\u001b[37m\u001b[0m \u001b[1m0s\u001b[0m 35ms/step - accuracy: 0.8687 - loss: 0.3478 - val_accuracy: 0.9000 - val_loss: 0.2304\n",
            "Epoch 60/100\n",
            "\u001b[1m3/3\u001b[0m \u001b[32m━━━━━━━━━━━━━━━━━━━━\u001b[0m\u001b[37m\u001b[0m \u001b[1m0s\u001b[0m 41ms/step - accuracy: 0.8570 - loss: 0.3678 - val_accuracy: 0.9000 - val_loss: 0.2289\n",
            "Epoch 61/100\n",
            "\u001b[1m3/3\u001b[0m \u001b[32m━━━━━━━━━━━━━━━━━━━━\u001b[0m\u001b[37m\u001b[0m \u001b[1m0s\u001b[0m 32ms/step - accuracy: 0.8219 - loss: 0.3877 - val_accuracy: 0.9000 - val_loss: 0.2267\n",
            "Epoch 62/100\n",
            "\u001b[1m3/3\u001b[0m \u001b[32m━━━━━━━━━━━━━━━━━━━━\u001b[0m\u001b[37m\u001b[0m \u001b[1m0s\u001b[0m 33ms/step - accuracy: 0.8570 - loss: 0.3613 - val_accuracy: 0.9000 - val_loss: 0.2241\n",
            "Epoch 63/100\n",
            "\u001b[1m3/3\u001b[0m \u001b[32m━━━━━━━━━━━━━━━━━━━━\u001b[0m\u001b[37m\u001b[0m \u001b[1m0s\u001b[0m 37ms/step - accuracy: 0.8609 - loss: 0.3408 - val_accuracy: 0.9000 - val_loss: 0.2207\n",
            "Epoch 64/100\n",
            "\u001b[1m3/3\u001b[0m \u001b[32m━━━━━━━━━━━━━━━━━━━━\u001b[0m\u001b[37m\u001b[0m \u001b[1m0s\u001b[0m 33ms/step - accuracy: 0.8516 - loss: 0.3711 - val_accuracy: 0.9000 - val_loss: 0.2187\n",
            "Epoch 65/100\n",
            "\u001b[1m3/3\u001b[0m \u001b[32m━━━━━━━━━━━━━━━━━━━━\u001b[0m\u001b[37m\u001b[0m \u001b[1m0s\u001b[0m 34ms/step - accuracy: 0.8672 - loss: 0.3608 - val_accuracy: 0.9000 - val_loss: 0.2167\n",
            "Epoch 66/100\n",
            "\u001b[1m3/3\u001b[0m \u001b[32m━━━━━━━━━━━━━━━━━━━━\u001b[0m\u001b[37m\u001b[0m \u001b[1m0s\u001b[0m 34ms/step - accuracy: 0.8516 - loss: 0.3920 - val_accuracy: 0.9000 - val_loss: 0.2155\n",
            "Epoch 67/100\n",
            "\u001b[1m3/3\u001b[0m \u001b[32m━━━━━━━━━━━━━━━━━━━━\u001b[0m\u001b[37m\u001b[0m \u001b[1m0s\u001b[0m 33ms/step - accuracy: 0.8828 - loss: 0.3481 - val_accuracy: 0.9000 - val_loss: 0.2131\n",
            "Epoch 68/100\n",
            "\u001b[1m3/3\u001b[0m \u001b[32m━━━━━━━━━━━━━━━━━━━━\u001b[0m\u001b[37m\u001b[0m \u001b[1m0s\u001b[0m 34ms/step - accuracy: 0.9023 - loss: 0.3208 - val_accuracy: 0.9000 - val_loss: 0.2108\n",
            "Epoch 69/100\n",
            "\u001b[1m3/3\u001b[0m \u001b[32m━━━━━━━━━━━━━━━━━━━━\u001b[0m\u001b[37m\u001b[0m \u001b[1m0s\u001b[0m 42ms/step - accuracy: 0.8789 - loss: 0.3327 - val_accuracy: 0.9000 - val_loss: 0.2093\n",
            "Epoch 70/100\n",
            "\u001b[1m3/3\u001b[0m \u001b[32m━━━━━━━━━━━━━━━━━━━━\u001b[0m\u001b[37m\u001b[0m \u001b[1m0s\u001b[0m 33ms/step - accuracy: 0.8477 - loss: 0.3762 - val_accuracy: 0.9000 - val_loss: 0.2084\n",
            "Epoch 71/100\n",
            "\u001b[1m3/3\u001b[0m \u001b[32m━━━━━━━━━━━━━━━━━━━━\u001b[0m\u001b[37m\u001b[0m \u001b[1m0s\u001b[0m 34ms/step - accuracy: 0.8672 - loss: 0.3545 - val_accuracy: 0.9000 - val_loss: 0.2069\n",
            "Epoch 72/100\n",
            "\u001b[1m3/3\u001b[0m \u001b[32m━━━━━━━━━━━━━━━━━━━━\u001b[0m\u001b[37m\u001b[0m \u001b[1m0s\u001b[0m 35ms/step - accuracy: 0.8516 - loss: 0.3498 - val_accuracy: 0.9000 - val_loss: 0.2050\n",
            "Epoch 73/100\n",
            "\u001b[1m3/3\u001b[0m \u001b[32m━━━━━━━━━━━━━━━━━━━━\u001b[0m\u001b[37m\u001b[0m \u001b[1m0s\u001b[0m 35ms/step - accuracy: 0.8906 - loss: 0.3218 - val_accuracy: 0.8500 - val_loss: 0.2034\n",
            "Epoch 74/100\n",
            "\u001b[1m3/3\u001b[0m \u001b[32m━━━━━━━━━━━━━━━━━━━━\u001b[0m\u001b[37m\u001b[0m \u001b[1m0s\u001b[0m 34ms/step - accuracy: 0.9023 - loss: 0.2942 - val_accuracy: 0.9000 - val_loss: 0.2025\n",
            "Epoch 75/100\n",
            "\u001b[1m3/3\u001b[0m \u001b[32m━━━━━━━━━━━━━━━━━━━━\u001b[0m\u001b[37m\u001b[0m \u001b[1m0s\u001b[0m 37ms/step - accuracy: 0.8906 - loss: 0.3246 - val_accuracy: 0.9000 - val_loss: 0.2020\n",
            "Epoch 76/100\n",
            "\u001b[1m3/3\u001b[0m \u001b[32m━━━━━━━━━━━━━━━━━━━━\u001b[0m\u001b[37m\u001b[0m \u001b[1m0s\u001b[0m 34ms/step - accuracy: 0.8594 - loss: 0.3559 - val_accuracy: 0.9000 - val_loss: 0.2009\n",
            "Epoch 77/100\n",
            "\u001b[1m3/3\u001b[0m \u001b[32m━━━━━━━━━━━━━━━━━━━━\u001b[0m\u001b[37m\u001b[0m \u001b[1m0s\u001b[0m 33ms/step - accuracy: 0.8555 - loss: 0.3639 - val_accuracy: 0.9000 - val_loss: 0.1998\n",
            "Epoch 78/100\n",
            "\u001b[1m3/3\u001b[0m \u001b[32m━━━━━━━━━━━━━━━━━━━━\u001b[0m\u001b[37m\u001b[0m \u001b[1m0s\u001b[0m 41ms/step - accuracy: 0.8750 - loss: 0.3319 - val_accuracy: 0.8500 - val_loss: 0.1987\n",
            "Epoch 79/100\n",
            "\u001b[1m3/3\u001b[0m \u001b[32m━━━━━━━━━━━━━━━━━━━━\u001b[0m\u001b[37m\u001b[0m \u001b[1m0s\u001b[0m 34ms/step - accuracy: 0.8789 - loss: 0.3299 - val_accuracy: 0.9000 - val_loss: 0.1982\n",
            "Epoch 80/100\n",
            "\u001b[1m3/3\u001b[0m \u001b[32m━━━━━━━━━━━━━━━━━━━━\u001b[0m\u001b[37m\u001b[0m \u001b[1m0s\u001b[0m 32ms/step - accuracy: 0.8750 - loss: 0.3422 - val_accuracy: 0.9000 - val_loss: 0.1977\n",
            "Epoch 81/100\n",
            "\u001b[1m3/3\u001b[0m \u001b[32m━━━━━━━━━━━━━━━━━━━━\u001b[0m\u001b[37m\u001b[0m \u001b[1m0s\u001b[0m 35ms/step - accuracy: 0.8438 - loss: 0.3727 - val_accuracy: 0.9000 - val_loss: 0.1973\n",
            "Epoch 82/100\n",
            "\u001b[1m3/3\u001b[0m \u001b[32m━━━━━━━━━━━━━━━━━━━━\u001b[0m\u001b[37m\u001b[0m \u001b[1m0s\u001b[0m 33ms/step - accuracy: 0.8672 - loss: 0.3344 - val_accuracy: 0.9000 - val_loss: 0.1963\n",
            "Epoch 83/100\n",
            "\u001b[1m3/3\u001b[0m \u001b[32m━━━━━━━━━━━━━━━━━━━━\u001b[0m\u001b[37m\u001b[0m \u001b[1m0s\u001b[0m 63ms/step - accuracy: 0.8906 - loss: 0.3088 - val_accuracy: 0.9000 - val_loss: 0.1960\n",
            "Epoch 84/100\n",
            "\u001b[1m3/3\u001b[0m \u001b[32m━━━━━━━━━━━━━━━━━━━━\u001b[0m\u001b[37m\u001b[0m \u001b[1m0s\u001b[0m 67ms/step - accuracy: 0.8516 - loss: 0.3715 - val_accuracy: 0.9000 - val_loss: 0.1961\n",
            "Epoch 85/100\n",
            "\u001b[1m3/3\u001b[0m \u001b[32m━━━━━━━━━━━━━━━━━━━━\u001b[0m\u001b[37m\u001b[0m \u001b[1m0s\u001b[0m 84ms/step - accuracy: 0.8711 - loss: 0.3238 - val_accuracy: 0.9000 - val_loss: 0.1958\n",
            "Epoch 86/100\n",
            "\u001b[1m3/3\u001b[0m \u001b[32m━━━━━━━━━━━━━━━━━━━━\u001b[0m\u001b[37m\u001b[0m \u001b[1m0s\u001b[0m 62ms/step - accuracy: 0.8555 - loss: 0.3594 - val_accuracy: 0.9000 - val_loss: 0.1958\n",
            "Epoch 87/100\n",
            "\u001b[1m3/3\u001b[0m \u001b[32m━━━━━━━━━━━━━━━━━━━━\u001b[0m\u001b[37m\u001b[0m \u001b[1m0s\u001b[0m 49ms/step - accuracy: 0.8789 - loss: 0.3325 - val_accuracy: 0.9000 - val_loss: 0.1953\n",
            "Epoch 88/100\n",
            "\u001b[1m3/3\u001b[0m \u001b[32m━━━━━━━━━━━━━━━━━━━━\u001b[0m\u001b[37m\u001b[0m \u001b[1m0s\u001b[0m 45ms/step - accuracy: 0.8594 - loss: 0.3323 - val_accuracy: 0.9000 - val_loss: 0.1958\n",
            "Epoch 89/100\n",
            "\u001b[1m3/3\u001b[0m \u001b[32m━━━━━━━━━━━━━━━━━━━━\u001b[0m\u001b[37m\u001b[0m \u001b[1m0s\u001b[0m 65ms/step - accuracy: 0.8453 - loss: 0.3591 - val_accuracy: 0.9000 - val_loss: 0.1972\n",
            "Epoch 90/100\n",
            "\u001b[1m3/3\u001b[0m \u001b[32m━━━━━━━━━━━━━━━━━━━━\u001b[0m\u001b[37m\u001b[0m \u001b[1m0s\u001b[0m 65ms/step - accuracy: 0.8727 - loss: 0.3183 - val_accuracy: 0.9000 - val_loss: 0.1966\n",
            "Epoch 91/100\n",
            "\u001b[1m3/3\u001b[0m \u001b[32m━━━━━━━━━━━━━━━━━━━━\u001b[0m\u001b[37m\u001b[0m \u001b[1m0s\u001b[0m 74ms/step - accuracy: 0.8844 - loss: 0.3048 - val_accuracy: 0.9000 - val_loss: 0.1965\n",
            "Epoch 92/100\n",
            "\u001b[1m3/3\u001b[0m \u001b[32m━━━━━━━━━━━━━━━━━━━━\u001b[0m\u001b[37m\u001b[0m \u001b[1m0s\u001b[0m 67ms/step - accuracy: 0.8453 - loss: 0.3649 - val_accuracy: 0.9000 - val_loss: 0.1961\n",
            "Epoch 93/100\n",
            "\u001b[1m3/3\u001b[0m \u001b[32m━━━━━━━━━━━━━━━━━━━━\u001b[0m\u001b[37m\u001b[0m \u001b[1m0s\u001b[0m 63ms/step - accuracy: 0.8766 - loss: 0.3152 - val_accuracy: 0.9000 - val_loss: 0.1945\n",
            "Epoch 94/100\n",
            "\u001b[1m3/3\u001b[0m \u001b[32m━━━━━━━━━━━━━━━━━━━━\u001b[0m\u001b[37m\u001b[0m \u001b[1m0s\u001b[0m 35ms/step - accuracy: 0.8570 - loss: 0.3227 - val_accuracy: 0.9000 - val_loss: 0.1929\n",
            "Epoch 95/100\n",
            "\u001b[1m3/3\u001b[0m \u001b[32m━━━━━━━━━━━━━━━━━━━━\u001b[0m\u001b[37m\u001b[0m \u001b[1m0s\u001b[0m 34ms/step - accuracy: 0.8906 - loss: 0.2982 - val_accuracy: 0.9000 - val_loss: 0.1916\n",
            "Epoch 96/100\n",
            "\u001b[1m3/3\u001b[0m \u001b[32m━━━━━━━━━━━━━━━━━━━━\u001b[0m\u001b[37m\u001b[0m \u001b[1m0s\u001b[0m 41ms/step - accuracy: 0.9023 - loss: 0.2943 - val_accuracy: 0.9000 - val_loss: 0.1900\n",
            "Epoch 97/100\n",
            "\u001b[1m3/3\u001b[0m \u001b[32m━━━━━━━━━━━━━━━━━━━━\u001b[0m\u001b[37m\u001b[0m \u001b[1m0s\u001b[0m 37ms/step - accuracy: 0.8672 - loss: 0.3451 - val_accuracy: 0.9000 - val_loss: 0.1895\n",
            "Epoch 98/100\n",
            "\u001b[1m3/3\u001b[0m \u001b[32m━━━━━━━━━━━━━━━━━━━━\u001b[0m\u001b[37m\u001b[0m \u001b[1m0s\u001b[0m 35ms/step - accuracy: 0.8711 - loss: 0.3375 - val_accuracy: 0.8500 - val_loss: 0.1889\n",
            "Epoch 99/100\n",
            "\u001b[1m3/3\u001b[0m \u001b[32m━━━━━━━━━━━━━━━━━━━━\u001b[0m\u001b[37m\u001b[0m \u001b[1m0s\u001b[0m 34ms/step - accuracy: 0.8750 - loss: 0.3299 - val_accuracy: 0.8500 - val_loss: 0.1887\n",
            "Epoch 100/100\n",
            "\u001b[1m3/3\u001b[0m \u001b[32m━━━━━━━━━━━━━━━━━━━━\u001b[0m\u001b[37m\u001b[0m \u001b[1m0s\u001b[0m 34ms/step - accuracy: 0.8750 - loss: 0.3395 - val_accuracy: 0.9000 - val_loss: 0.1895\n"
          ]
        }
      ]
    },
    {
      "cell_type": "code",
      "source": [
        "model.get_weights()"
      ],
      "metadata": {
        "colab": {
          "base_uri": "https://localhost:8080/"
        },
        "id": "8K2E1Z5Oupj_",
        "outputId": "50b222b2-e1ec-4d3e-a2f8-cbaa4b53a666"
      },
      "execution_count": null,
      "outputs": [
        {
          "output_type": "execute_result",
          "data": {
            "text/plain": [
              "[array([[ 0.05424146, -0.9347913 ,  0.78723246, -0.19755039, -1.37522   ,\n",
              "         -1.2136227 , -0.24361324, -0.07653646, -0.2365296 ,  0.8516041 ],\n",
              "        [-0.5776069 ,  0.6590166 , -0.2917544 ,  0.5093206 ,  0.16808054,\n",
              "          0.02346471,  0.883054  , -0.6499458 ,  0.29406404,  0.7716595 ]],\n",
              "       dtype=float32),\n",
              " array([ 0.18424077, -0.03908167,  0.07753535, -0.1055716 , -0.1175715 ,\n",
              "        -0.08356907,  0.10727814,  0.02689414, -0.06398686,  0.1609556 ],\n",
              "       dtype=float32),\n",
              " array([[-3.2627341e-01, -6.6002870e-01,  4.0806571e-01, -1.3300039e-01,\n",
              "         -9.9096671e-02,  4.7270373e-01,  8.7416255e-01, -9.4330177e-02,\n",
              "          4.0517020e-01, -1.4689782e-01],\n",
              "        [ 2.9888031e-01, -6.2980726e-02,  2.5199488e-02, -9.5826693e-02,\n",
              "         -4.9802560e-02,  2.4828298e-01,  5.1324856e-01, -6.1300564e-01,\n",
              "          1.5743367e-01, -2.2003222e-02],\n",
              "        [-2.2251230e-01,  2.1601436e-01, -4.2633668e-01, -1.4379999e-01,\n",
              "         -3.9878124e-01, -2.0651303e-01,  7.1321237e-01,  3.9991069e-01,\n",
              "          5.8338815e-01, -1.5364578e-01],\n",
              "        [ 1.9541818e-01, -2.2399900e-02, -1.5585297e-01, -2.5999877e-01,\n",
              "         -3.7248027e-02,  4.5564863e-01,  5.2975703e-02,  2.3483516e-01,\n",
              "          4.5241162e-02,  8.2117021e-01],\n",
              "        [-4.2696947e-01,  4.0641445e-01,  3.8524699e-01,  4.0744993e-01,\n",
              "         -1.4318502e-01, -1.3104270e-01, -2.9277226e-01, -8.6431064e-02,\n",
              "          3.0737567e-01,  2.5587523e-01],\n",
              "        [ 6.9082725e-01,  1.1808852e+00,  7.6561773e-01, -5.1707875e-02,\n",
              "         -8.1055023e-02,  4.7258553e-01, -3.1136766e-01,  4.2563352e-01,\n",
              "          2.9231343e-01, -8.9072859e-01],\n",
              "        [ 5.8855551e-01,  1.9199318e-01, -1.9488671e-01,  3.0127919e-01,\n",
              "         -4.1560507e-01,  1.0300977e+00, -4.7955275e-01, -1.2542757e-01,\n",
              "         -4.4175202e-01,  1.1885056e-01],\n",
              "        [-3.8779891e-01, -5.2270180e-01, -5.0624824e-01, -3.5499257e-01,\n",
              "         -5.3949833e-02,  3.5678007e-02, -4.2046013e-01,  1.7391729e-01,\n",
              "          4.5903957e-01,  7.7673751e-01],\n",
              "        [-2.9512882e-01, -3.7305024e-01,  2.8294748e-01,  2.1997339e-01,\n",
              "         -1.0633756e-03,  6.7926598e-01,  1.2315990e-01, -3.5337064e-01,\n",
              "          3.7613377e-01,  2.0025930e-01],\n",
              "        [ 3.3562031e-01,  3.1394148e-01,  5.3069729e-01,  7.1741891e-01,\n",
              "          7.4381389e-02, -4.4422874e-01, -8.5391462e-02,  4.2988387e-01,\n",
              "          1.8632162e-01, -3.3447418e-01]], dtype=float32),\n",
              " array([ 0.14410233,  0.09097166, -0.00070238,  0.11611564,  0.        ,\n",
              "         0.05937602,  0.14301448,  0.08464464,  0.10649341,  0.04585535],\n",
              "       dtype=float32),\n",
              " array([[ 0.4621714 ,  0.37767217,  0.0246681 ,  0.8536153 ,  0.58678794,\n",
              "          0.13964751, -0.4584578 ,  0.6184352 ,  0.8684543 ,  0.17688908],\n",
              "        [-0.4012265 ,  0.6168078 , -0.09895459,  0.14470051, -0.54390556,\n",
              "         -0.15819944,  0.5862642 , -0.39813992,  0.65880215, -0.32005545],\n",
              "        [-0.28765574,  0.13936296, -0.4034359 ,  0.05213433,  0.03655034,\n",
              "          0.08930616, -0.3144643 ,  0.09477852,  0.24770515, -0.03521601],\n",
              "        [-0.7133944 ,  0.48736957,  0.15266313, -0.04954337, -0.36183396,\n",
              "         -0.07294028,  0.29064623,  0.2590186 ,  0.71508646,  0.10625504],\n",
              "        [-0.22506246, -0.21302257,  0.1576115 , -0.28738135,  0.00256085,\n",
              "          0.1303049 ,  0.11420534,  0.09626933,  0.21420395,  0.23679611],\n",
              "        [ 0.44605798,  0.26244015, -0.4309145 ,  0.5905318 , -0.08271272,\n",
              "         -0.10343743,  0.757017  ,  0.2696027 , -0.18609986,  0.14966533],\n",
              "        [-0.11299728, -0.00555233,  0.19738127, -0.14334546, -0.13993266,\n",
              "          0.31442747,  0.13863206,  0.03081474, -0.00352644,  0.68401647],\n",
              "        [-0.7593645 ,  0.37679145, -0.54589576,  0.46835554, -0.00942804,\n",
              "          0.5767487 ,  0.20841995, -0.4597212 , -0.1768522 ,  0.63907003],\n",
              "        [-0.34647015,  0.01079389, -0.0447886 , -0.0489185 , -0.3658814 ,\n",
              "          0.26903468,  0.6056195 , -0.5674021 , -0.10323508,  0.14717522],\n",
              "        [-0.06893813,  0.46650684, -0.20136382, -0.39265347, -0.30584985,\n",
              "          0.7630691 ,  0.6117329 , -0.77595854,  0.25115398, -0.15545686]],\n",
              "       dtype=float32),\n",
              " array([-0.00915681,  0.08179944, -0.01572877, -0.04715097, -0.04333567,\n",
              "         0.06171982,  0.12039859, -0.0673502 ,  0.05592183,  0.13230288],\n",
              "       dtype=float32),\n",
              " array([[-0.13938442, -0.16415823, -0.32596463, -0.08569164, -0.50683534,\n",
              "         -0.6319726 , -0.45693204, -0.592945  ,  0.36750835, -0.1785889 ],\n",
              "        [ 0.7280341 , -0.14955446,  0.23560493, -0.24300388,  0.5415254 ,\n",
              "          0.22366698, -0.22227336,  0.24616991, -0.37875205,  0.09251516],\n",
              "        [ 0.00439306, -0.53348273,  0.17235813, -0.14987043,  0.15955156,\n",
              "         -0.21900894, -0.36043072, -0.3111244 , -0.07438152,  0.48530823],\n",
              "        [ 0.11590825,  0.06826524,  0.2843647 ,  0.30792534, -0.2582428 ,\n",
              "          0.16370086, -0.42590287, -0.5450516 , -0.18223974, -0.27482274],\n",
              "        [-0.34439114, -0.35670397, -0.3286737 , -0.28463128, -0.74582684,\n",
              "          0.21550731, -0.15492679,  0.42072177, -0.2318406 ,  0.01509604],\n",
              "        [ 0.03784726,  0.18175949, -0.35219663, -0.25681636,  0.02034779,\n",
              "          0.4881609 ,  0.20613989,  1.1392505 , -0.15329398, -0.09710536],\n",
              "        [ 0.3993195 ,  0.31517518, -0.12563598,  0.13715842, -0.4305796 ,\n",
              "          0.14575875, -0.05094196,  0.27210292,  0.4573982 ,  0.38865063],\n",
              "        [-0.13004002, -0.24023856,  0.01748885, -0.11095385,  0.25716144,\n",
              "          0.3435133 , -0.46350688, -0.21264233, -0.3512733 , -0.0292993 ],\n",
              "        [ 0.31094378, -0.38522524,  0.5263103 , -0.22127861, -0.4318977 ,\n",
              "         -0.7000752 ,  0.25746837, -0.5403227 ,  0.06877843, -0.3112772 ],\n",
              "        [-0.01083358,  0.47009435,  0.05273256, -0.5026071 , -0.30929375,\n",
              "          0.21901955, -0.1506598 ,  0.3601906 ,  0.34920895,  0.46198592]],\n",
              "       dtype=float32),\n",
              " array([ 0.00297836,  0.10169045,  0.102281  , -0.05884692,  0.        ,\n",
              "         0.13082114, -0.01343346,  0.05415283,  0.04094448,  0.11683323],\n",
              "       dtype=float32),\n",
              " array([[-0.55801076],\n",
              "        [ 0.37362176],\n",
              "        [-0.36486065],\n",
              "        [ 0.15723059],\n",
              "        [ 0.15761979],\n",
              "        [ 0.47418597],\n",
              "        [-0.3391438 ],\n",
              "        [ 0.9089766 ],\n",
              "        [ 0.10914475],\n",
              "        [ 0.66679907]], dtype=float32),\n",
              " array([-0.00738884], dtype=float32)]"
            ]
          },
          "metadata": {},
          "execution_count": 29
        }
      ]
    },
    {
      "cell_type": "code",
      "source": [
        "from mlxtend.plotting import plot_decision_regions\n",
        "plot_decision_regions(X,y.astype('int'), clf=model, legend=2)"
      ],
      "metadata": {
        "colab": {
          "base_uri": "https://localhost:8080/",
          "height": 465
        },
        "id": "h2jKnSGeuuLY",
        "outputId": "56a9ed36-336f-44ad-d777-8490308916b5"
      },
      "execution_count": null,
      "outputs": [
        {
          "output_type": "stream",
          "name": "stdout",
          "text": [
            "\u001b[1m9600/9600\u001b[0m \u001b[32m━━━━━━━━━━━━━━━━━━━━\u001b[0m\u001b[37m\u001b[0m \u001b[1m11s\u001b[0m 1ms/step\n"
          ]
        },
        {
          "output_type": "execute_result",
          "data": {
            "text/plain": [
              "<Axes: >"
            ]
          },
          "metadata": {},
          "execution_count": 30
        },
        {
          "output_type": "display_data",
          "data": {
            "text/plain": [
              "<Figure size 640x480 with 1 Axes>"
            ],
            "image/png": "[encoded data removed]"
          },
          "metadata": {}
        }
      ]
    },
    {
      "cell_type": "code",
      "source": [
        "(np.random.randn(10,10)*0.01).min()"
      ],
      "metadata": {
        "colab": {
          "base_uri": "https://localhost:8080/"
        },
        "id": "6cQtO9mpuxLI",
        "outputId": "7687f96b-df48-4c8b-85e9-d999811232a4"
      },
      "execution_count": null,
      "outputs": [
        {
          "output_type": "execute_result",
          "data": {
            "text/plain": [
              "np.float64(-0.030587111758314172)"
            ]
          },
          "metadata": {},
          "execution_count": 31
        }
      ]
    },
    {
      "cell_type": "code",
      "source": [
        "(np.random.randn(10,10)*0.01).max()"
      ],
      "metadata": {
        "colab": {
          "base_uri": "https://localhost:8080/"
        },
        "id": "diiaUiL92T7H",
        "outputId": "9ee0f591-c50b-4ecc-a981-0a7bf0796538"
      },
      "execution_count": null,
      "outputs": [
        {
          "output_type": "execute_result",
          "data": {
            "text/plain": [
              "np.float64(0.026714373725916195)"
            ]
          },
          "metadata": {},
          "execution_count": 32
        }
      ]
    },
    {
      "cell_type": "code",
      "source": [],
      "metadata": {
        "id": "b2DJRNfI3BOE"
      },
      "execution_count": null,
      "outputs": []
    }
  ]
}